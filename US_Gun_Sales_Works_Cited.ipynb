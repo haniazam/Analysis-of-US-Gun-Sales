{
 "cells": [
  {
   "cell_type": "markdown",
   "metadata": {},
   "source": [
    "<h1><center>Sources</center></h1>"
   ]
  },
  {
   "cell_type": "markdown",
   "metadata": {},
   "source": [
    "1. “National Instant Criminal Background Check System (NICS).” *FBI*, 3 May 2016, www.fbi.gov/services/cjis/nics.\n",
    "<br>\n",
    "<br>\n",
    "2. “US Census Bureau.” *Census.gov*, 4 Apr. 2019, www.census.gov/data.html\n",
    ".<br>\n",
    "<br>\n",
    "3. Brauer, Jurgen. *The US Firearms Industry Production and Supply*. Feb. 2013, www.smallarmssurvey.org/fileadmin/docs/F-Working-papers/SAS-WP14-US-Firearms-Industry.pdf.\n",
    "<br>\n",
    "<br>\n",
    "4. Aisch, Gregor, and Josh Keller. “What Happens After Calls for New Gun Restrictions? Sales Go Up.” *The New York Times*, 10 Dec. 2015, www.nytimes.com/interactive/2015/12/10/us/gun-sales-terrorism-obama-restrictions.html.\n"
   ]
  }
 ],
 "metadata": {
  "kernelspec": {
   "display_name": "Python 3",
   "language": "python",
   "name": "python3"
  },
  "language_info": {
   "codemirror_mode": {
    "name": "ipython",
    "version": 3
   },
   "file_extension": ".py",
   "mimetype": "text/x-python",
   "name": "python",
   "nbconvert_exporter": "python",
   "pygments_lexer": "ipython3",
   "version": "3.7.3"
  }
 },
 "nbformat": 4,
 "nbformat_minor": 2
}
