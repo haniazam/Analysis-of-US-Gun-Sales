{
 "cells": [
  {
   "cell_type": "markdown",
   "metadata": {},
   "source": [
    "# Analyzing FBI NICS Firearm Background Checks"
   ]
  },
  {
   "cell_type": "markdown",
   "metadata": {},
   "source": [
    "## Table of contents\n",
    "1. [I. Objective](#introduction)\n",
    "2. [II. Data Overview](#overview)\n",
    "3. [III. Data Wrangling](#wrangling)\n",
    "    1. [US Census Data](#census)\n",
    "    2. [NICS Data](#ncis)\n",
    "4. [IV. Data Analysis](#analysis) <br/>\n",
    "    1. [Research Question 1](#rq1)<br/>\n",
    "    2. [Research Question 2](#rq2)<br/>\n",
    "    3. [Research Question 3](#rq3)<br/>\n",
    "    4. [Research Question 4](#rq4)<br/>\n",
    "    5. [Research Question 5](#rq5)<br/>\n",
    "    6. [Research Question 6](#rq6)<br/>\n",
    "    7. [Research Question 7](#rq7)<br/>\n",
    "    8. [Research Question 8](#rq8)<br/>\n",
    "5. [V. Conclusions](#conclusions) <br/>\n",
    "    1. [Research Question 1](#ans1)<br/>\n",
    "    2. [Research Question 2](#ans2)<br/>\n",
    "    3. [Research Question 3](#ans3)<br/>\n",
    "    4. [Research Question 4](#ans4)<br/>\n",
    "    5. [Research Question 5](#ans5)<br/>\n",
    "    6. [Research Question 6](#ans6)<br/>\n",
    "    7. [Research Question 7](#ans7)<br/>\n",
    "    8. [Research Question 8](#ans8)<br/>\n",
    "6. [VI. Data Limitations](#limitations) <br/>\n"
   ]
  },
  {
   "cell_type": "markdown",
   "metadata": {},
   "source": [
    "<a name=\"objective\"></a>\n",
    "## I. Objective \n",
    "1. Which state in America has the highest and lowest estimated guns per capita?\n",
    "2. Which popultation statistic is has the highest correlation with estimated guns per capita in America?\n",
    "3. Which state in America has reported the highest rate of growth in estimated gun sales?\n",
    "4. What trends can be observed in estimated gun sales over time in America?\n",
    "5. What is the seasonal (monthly) trend in estimated gun sales?"
   ]
  },
  {
   "cell_type": "markdown",
   "metadata": {},
   "source": [
    "<a name=\"overview\"></a>\n",
    "## II. Data Overview\n",
    "Two data sets were used in this analysis:\n",
    "1. **FBI's National Instant Criminal Background Check System:**<br/>\n",
    "This data comes from the FBI's National Instant Criminal Background Check System.\n",
    "\n",
    "  According to [FBI.gov](https://www.fbi.gov/services/cjis/nics):\n",
    "\n",
    "> Mandated by the Brady Handgun Violence Prevention Act of 1993 and launched by the FBI on November 30, 1998, NICS is used by Federal Firearms Licensees (FFLs) to instantly determine whether a prospective buyer is eligible to buy firearms. Before ringing up the sale, cashiers call in a check to the FBI or to other designated agencies to ensure that each customer does not have a criminal record or isn’t otherwise ineligible to make a purchase. More than 230 million such checks have been made, leading to more than 1.3 million denials.\n",
    "\n",
    "The background check data base records the number of background checks conducted *per month* in each of the 50 U.S. states and five U.S. territories from *November 1998 - March 2017*. Background checks relating to different transactions (purchase, rental, resale, pawning, etc.) and different gun types (hand gun, long gun, etc) are distinctly recorded.\n",
    "\n",
    "The original dataset has footnotes among which include:\n",
    ">These statistics represent the number of firearm background checks initiated through the NICS They **do not** represent the number of firearms sold Based on varying state laws and purchase scenarios, a one-to-one correlation cannot be made between a firearm background check and a firearm sale.\n",
    "\n",
    "2. **U.S. Census Data**<br/>\n",
    "This data comes from the US Census Bureau. It contains demographic statistics relating to economy, housing, race,etc. for each of the 50 states. Most variables just have one data point per state (2016), but a few have data for more than one year (e.g. for 2010).\n"
   ]
  },
  {
   "cell_type": "markdown",
   "metadata": {},
   "source": [
    "<a name=\"wrangling\"></a>\n",
    "## III. Data Wrangling"
   ]
  },
  {
   "cell_type": "markdown",
   "metadata": {},
   "source": [
    "### a. Data Acquisition"
   ]
  },
  {
   "cell_type": "code",
   "execution_count": 1,
   "metadata": {},
   "outputs": [],
   "source": [
    "# import libraries\n",
    "import pandas as pd\n",
    "import numpy as np\n",
    "import seaborn as sns\n",
    "import matplotlib.pyplot as py\n",
    "\n",
    "\n",
    "%matplotlib inline"
   ]
  },
  {
   "cell_type": "code",
   "execution_count": 2,
   "metadata": {},
   "outputs": [],
   "source": [
    "# load and inspect data\n",
    "census=pd.read_csv('ncis-and-census-data/census.csv')\n",
    "gun_data=pd.read_excel('ncis-and-census-data/gun_data.xlsx')"
   ]
  },
  {
   "cell_type": "markdown",
   "metadata": {},
   "source": [
    "### b. Data Cleansing"
   ]
  },
  {
   "cell_type": "markdown",
   "metadata": {},
   "source": [
    "<a name=\"census\"></a>\n",
    "#### (i) U.S. Census Data"
   ]
  },
  {
   "cell_type": "code",
   "execution_count": 3,
   "metadata": {},
   "outputs": [
    {
     "name": "stdout",
     "output_type": "stream",
     "text": [
      "                                                Fact Fact Note    Alabama  \\\n",
      "0       Population estimates, July 1, 2016,  (V2016)       NaN  4,863,300   \n",
      "1  Population estimates base, April 1, 2010,  (V2...       NaN  4,780,131   \n",
      "2  Population, percent change - April 1, 2010 (es...       NaN      1.70%   \n",
      "3                  Population, Census, April 1, 2010       NaN  4,779,736   \n",
      "4  Persons under 5 years, percent, July 1, 2016, ...       NaN      6.00%   \n",
      "\n",
      "    Alaska    Arizona   Arkansas  California   Colorado Connecticut Delaware  \\\n",
      "0  741,894  6,931,071  2,988,248  39,250,017  5,540,545   3,576,452  952,065   \n",
      "1  710,249  6,392,301  2,916,025  37,254,522  5,029,324   3,574,114  897,936   \n",
      "2    4.50%      8.40%      2.50%       5.40%     10.20%       0.10%    6.00%   \n",
      "3  710,231  6,392,017  2,915,918  37,253,956  5,029,196   3,574,097  897,934   \n",
      "4    7.30%      6.30%      6.40%       6.30%      6.10%       5.20%    5.80%   \n",
      "\n",
      "   ... South Dakota Tennessee       Texas       Utah  Vermont   Virginia  \\\n",
      "0  ...       865454   6651194  27,862,596  3,051,217  624,594  8,411,808   \n",
      "1  ...       814195   6346298  25,146,100  2,763,888  625,741  8,001,041   \n",
      "2  ...        0.063     0.048      10.80%     10.40%   -0.20%      5.10%   \n",
      "3  ...       814180   6346105  25,145,561  2,763,885  625,741  8,001,024   \n",
      "4  ...        0.071     0.061       7.20%      8.30%    4.90%      6.10%   \n",
      "\n",
      "  Washington West Virginia  Wisconsin  Wyoming  \n",
      "0  7,288,000     1,831,102  5,778,708  585,501  \n",
      "1  6,724,545     1,853,011  5,687,289  563,767  \n",
      "2      8.40%        -1.20%      1.60%    3.90%  \n",
      "3  6,724,540     1,852,994  5,686,986  563,626  \n",
      "4      6.20%         5.50%      5.80%    6.50%  \n",
      "\n",
      "[5 rows x 52 columns]\n",
      "   Fact                                          Fact Note Alabama Alaska  \\\n",
      "80   FN             Footnote on this item in place of data     NaN    NaN   \n",
      "81  NaN                                      Not available     NaN    NaN   \n",
      "82    S    Suppressed; does not meet publication standards     NaN    NaN   \n",
      "83    X                                     Not applicable     NaN    NaN   \n",
      "84    Z  Value greater than zero but less than half uni...     NaN    NaN   \n",
      "\n",
      "   Arizona Arkansas California Colorado Connecticut Delaware  ...  \\\n",
      "80     NaN      NaN        NaN      NaN         NaN      NaN  ...   \n",
      "81     NaN      NaN        NaN      NaN         NaN      NaN  ...   \n",
      "82     NaN      NaN        NaN      NaN         NaN      NaN  ...   \n",
      "83     NaN      NaN        NaN      NaN         NaN      NaN  ...   \n",
      "84     NaN      NaN        NaN      NaN         NaN      NaN  ...   \n",
      "\n",
      "   South Dakota Tennessee Texas Utah Vermont Virginia Washington  \\\n",
      "80          NaN       NaN   NaN  NaN     NaN      NaN        NaN   \n",
      "81          NaN       NaN   NaN  NaN     NaN      NaN        NaN   \n",
      "82          NaN       NaN   NaN  NaN     NaN      NaN        NaN   \n",
      "83          NaN       NaN   NaN  NaN     NaN      NaN        NaN   \n",
      "84          NaN       NaN   NaN  NaN     NaN      NaN        NaN   \n",
      "\n",
      "   West Virginia Wisconsin Wyoming  \n",
      "80           NaN       NaN     NaN  \n",
      "81           NaN       NaN     NaN  \n",
      "82           NaN       NaN     NaN  \n",
      "83           NaN       NaN     NaN  \n",
      "84           NaN       NaN     NaN  \n",
      "\n",
      "[5 rows x 52 columns]\n",
      "<class 'pandas.core.frame.DataFrame'>\n",
      "RangeIndex: 85 entries, 0 to 84\n",
      "Data columns (total 52 columns):\n",
      "Fact              80 non-null object\n",
      "Fact Note         28 non-null object\n",
      "Alabama           65 non-null object\n",
      "Alaska            65 non-null object\n",
      "Arizona           65 non-null object\n",
      "Arkansas          65 non-null object\n",
      "California        65 non-null object\n",
      "Colorado          65 non-null object\n",
      "Connecticut       65 non-null object\n",
      "Delaware          65 non-null object\n",
      "Florida           65 non-null object\n",
      "Georgia           65 non-null object\n",
      "Hawaii            65 non-null object\n",
      "Idaho             65 non-null object\n",
      "Illinois          65 non-null object\n",
      "Indiana           65 non-null object\n",
      "Iowa              65 non-null object\n",
      "Kansas            65 non-null object\n",
      "Kentucky          65 non-null object\n",
      "Louisiana         65 non-null object\n",
      "Maine             65 non-null object\n",
      "Maryland          65 non-null object\n",
      "Massachusetts     65 non-null object\n",
      "Michigan          65 non-null object\n",
      "Minnesota         65 non-null object\n",
      "Mississippi       65 non-null object\n",
      "Missouri          65 non-null object\n",
      "Montana           65 non-null object\n",
      "Nebraska          65 non-null object\n",
      "Nevada            65 non-null object\n",
      "New Hampshire     65 non-null object\n",
      "New Jersey        65 non-null object\n",
      "New Mexico        65 non-null object\n",
      "New York          65 non-null object\n",
      "North Carolina    65 non-null object\n",
      "North Dakota      65 non-null object\n",
      "Ohio              65 non-null object\n",
      "Oklahoma          65 non-null object\n",
      "Oregon            65 non-null object\n",
      "Pennsylvania      65 non-null object\n",
      "Rhode Island      65 non-null object\n",
      "South Carolina    65 non-null object\n",
      "South Dakota      65 non-null object\n",
      "Tennessee         65 non-null object\n",
      "Texas             65 non-null object\n",
      "Utah              65 non-null object\n",
      "Vermont           65 non-null object\n",
      "Virginia          65 non-null object\n",
      "Washington        65 non-null object\n",
      "West Virginia     65 non-null object\n",
      "Wisconsin         65 non-null object\n",
      "Wyoming           65 non-null object\n",
      "dtypes: object(52)\n",
      "memory usage: 34.6+ KB\n",
      "None\n"
     ]
    }
   ],
   "source": [
    "#explore census data\n",
    "print(census.head(5))\n",
    "print(census.tail(5))\n",
    "print(census.info())"
   ]
  },
  {
   "cell_type": "markdown",
   "metadata": {},
   "source": [
    "#### Preliminary Observations:\n",
    "1. Data points are integer values with a string data type and so will need to be converted to a numeric data type.\n",
    "2. Symbols like ( $ ) ( \\% ) ( \\, ) need to be removed for data type conversion noted above.\n",
    "3. States are list in a *column* in the NICs data and in a *row* in the US Census data. The US Census data needs to be transposed so that the Census and Gun data sets are consistent."
   ]
  },
  {
   "cell_type": "markdown",
   "metadata": {},
   "source": [
    "#### U.S. Census Data Cleansing"
   ]
  },
  {
   "cell_type": "code",
   "execution_count": 4,
   "metadata": {},
   "outputs": [],
   "source": [
    "#remove end notes from census file, transpose and trim\n",
    "census_notes=census.iloc[66:,0:2]\n",
    "census=census[:65]\n",
    "census=census.T\n",
    "census.columns=census.iloc[0,:]\n",
    "census=census[2:]"
   ]
  },
  {
   "cell_type": "code",
   "execution_count": 5,
   "metadata": {},
   "outputs": [],
   "source": [
    "#remove commas\n",
    "census.replace({\",\": \"\"}, regex=True,inplace=True)"
   ]
  },
  {
   "cell_type": "code",
   "execution_count": 6,
   "metadata": {},
   "outputs": [],
   "source": [
    "# remove symbols in data frame and change data type to float\n",
    "for i in census.index:\n",
    "    for j in census.columns:\n",
    "        if census.loc[i,j][-1]==\"%\":\n",
    "            census.loc[i,j]=float(census.loc[i,j].strip(\"%\"))/100\n",
    "        elif census.loc[i,j][0]==\"$\":\n",
    "            census.loc[i,j]=float(census.loc[i,j].strip().strip(\"$\"))\n",
    "        else:\n",
    "            census.loc[i,j]=pd.to_numeric(census.loc[i,j],errors='coerce')"
   ]
  },
  {
   "cell_type": "code",
   "execution_count": 7,
   "metadata": {},
   "outputs": [],
   "source": [
    "#reset index\n",
    "census=census.astype('float')\n",
    "census.reset_index(inplace=True)\n",
    "census.rename(columns={'index':'state'},inplace=True)\n",
    "census=census.drop(census.columns[-1],axis=1)\n"
   ]
  },
  {
   "cell_type": "markdown",
   "metadata": {},
   "source": [
    "<a name=\"ncis\"></a>\n",
    "#### (ii) NICS Data"
   ]
  },
  {
   "cell_type": "code",
   "execution_count": 8,
   "metadata": {},
   "outputs": [
    {
     "name": "stdout",
     "output_type": "stream",
     "text": [
      "     month       state   permit  permit_recheck  handgun  long_gun   other  \\\n",
      "0  2017-09     Alabama  16717.0             0.0   5734.0    6320.0   221.0   \n",
      "1  2017-09      Alaska    209.0             2.0   2320.0    2930.0   219.0   \n",
      "2  2017-09     Arizona   5069.0           382.0  11063.0    7946.0   920.0   \n",
      "3  2017-09    Arkansas   2935.0           632.0   4347.0    6063.0   165.0   \n",
      "4  2017-09  California  57839.0             0.0  37165.0   24581.0  2984.0   \n",
      "\n",
      "   multiple  admin  prepawn_handgun  ...  returned_other  rentals_handgun  \\\n",
      "0       317    0.0             15.0  ...             0.0              0.0   \n",
      "1       160    0.0              5.0  ...             0.0              0.0   \n",
      "2       631    0.0             13.0  ...             0.0              0.0   \n",
      "3       366   51.0             12.0  ...             0.0              0.0   \n",
      "4         0    0.0              0.0  ...             0.0              0.0   \n",
      "\n",
      "   rentals_long_gun  private_sale_handgun  private_sale_long_gun  \\\n",
      "0               0.0                   9.0                   16.0   \n",
      "1               0.0                  17.0                   24.0   \n",
      "2               0.0                  38.0                   12.0   \n",
      "3               0.0                  13.0                   23.0   \n",
      "4               0.0                   0.0                    0.0   \n",
      "\n",
      "   private_sale_other  return_to_seller_handgun  return_to_seller_long_gun  \\\n",
      "0                 3.0                       0.0                        0.0   \n",
      "1                 1.0                       0.0                        0.0   \n",
      "2                 2.0                       0.0                        0.0   \n",
      "3                 0.0                       0.0                        2.0   \n",
      "4                 0.0                       0.0                        0.0   \n",
      "\n",
      "   return_to_seller_other  totals  \n",
      "0                     3.0   32019  \n",
      "1                     0.0    6303  \n",
      "2                     0.0   28394  \n",
      "3                     1.0   17747  \n",
      "4                     0.0  123506  \n",
      "\n",
      "[5 rows x 27 columns]\n",
      "         month          state  permit  permit_recheck  handgun  long_gun  \\\n",
      "12480  1998-11       Virginia     0.0             NaN     14.0       2.0   \n",
      "12481  1998-11     Washington     1.0             NaN     65.0     286.0   \n",
      "12482  1998-11  West Virginia     3.0             NaN    149.0     251.0   \n",
      "12483  1998-11      Wisconsin     0.0             NaN     25.0     214.0   \n",
      "12484  1998-11        Wyoming     8.0             NaN     45.0      49.0   \n",
      "\n",
      "       other  multiple  admin  prepawn_handgun  ...  returned_other  \\\n",
      "12480    NaN         8    0.0              NaN  ...             NaN   \n",
      "12481    NaN         8    1.0              NaN  ...             NaN   \n",
      "12482    NaN         5    0.0              NaN  ...             NaN   \n",
      "12483    NaN         2    0.0              NaN  ...             NaN   \n",
      "12484    NaN         5    0.0              NaN  ...             NaN   \n",
      "\n",
      "       rentals_handgun  rentals_long_gun  private_sale_handgun  \\\n",
      "12480              NaN               NaN                   NaN   \n",
      "12481              NaN               NaN                   NaN   \n",
      "12482              NaN               NaN                   NaN   \n",
      "12483              NaN               NaN                   NaN   \n",
      "12484              NaN               NaN                   NaN   \n",
      "\n",
      "       private_sale_long_gun  private_sale_other  return_to_seller_handgun  \\\n",
      "12480                    NaN                 NaN                       NaN   \n",
      "12481                    NaN                 NaN                       NaN   \n",
      "12482                    NaN                 NaN                       NaN   \n",
      "12483                    NaN                 NaN                       NaN   \n",
      "12484                    NaN                 NaN                       NaN   \n",
      "\n",
      "       return_to_seller_long_gun  return_to_seller_other  totals  \n",
      "12480                        NaN                     NaN      24  \n",
      "12481                        NaN                     NaN     361  \n",
      "12482                        NaN                     NaN     408  \n",
      "12483                        NaN                     NaN     241  \n",
      "12484                        NaN                     NaN     107  \n",
      "\n",
      "[5 rows x 27 columns]\n",
      "<class 'pandas.core.frame.DataFrame'>\n",
      "RangeIndex: 12485 entries, 0 to 12484\n",
      "Data columns (total 27 columns):\n",
      "month                        12485 non-null object\n",
      "state                        12485 non-null object\n",
      "permit                       12461 non-null float64\n",
      "permit_recheck               1100 non-null float64\n",
      "handgun                      12465 non-null float64\n",
      "long_gun                     12466 non-null float64\n",
      "other                        5500 non-null float64\n",
      "multiple                     12485 non-null int64\n",
      "admin                        12462 non-null float64\n",
      "prepawn_handgun              10542 non-null float64\n",
      "prepawn_long_gun             10540 non-null float64\n",
      "prepawn_other                5115 non-null float64\n",
      "redemption_handgun           10545 non-null float64\n",
      "redemption_long_gun          10544 non-null float64\n",
      "redemption_other             5115 non-null float64\n",
      "returned_handgun             2200 non-null float64\n",
      "returned_long_gun            2145 non-null float64\n",
      "returned_other               1815 non-null float64\n",
      "rentals_handgun              990 non-null float64\n",
      "rentals_long_gun             825 non-null float64\n",
      "private_sale_handgun         2750 non-null float64\n",
      "private_sale_long_gun        2750 non-null float64\n",
      "private_sale_other           2750 non-null float64\n",
      "return_to_seller_handgun     2475 non-null float64\n",
      "return_to_seller_long_gun    2750 non-null float64\n",
      "return_to_seller_other       2255 non-null float64\n",
      "totals                       12485 non-null int64\n",
      "dtypes: float64(23), int64(2), object(2)\n",
      "memory usage: 2.6+ MB\n",
      "None\n"
     ]
    }
   ],
   "source": [
    "print(gun_data.head(5))\n",
    "print(gun_data.tail(5))\n",
    "print(gun_data.info())"
   ]
  },
  {
   "cell_type": "markdown",
   "metadata": {},
   "source": [
    "#### Preliminary Observations:\n",
    "1. The data ranges from 1998 to 2017 and observations are documented on a monthly basis. There are data points for each month except for the starting (1998) and ending (2017) years. These two years will therefore be excluded from the analysis to ensure consistent number of months per year in NICs data.\n",
    "2. NICs data records background checks and is a proxy for sales.\n",
    "3. According to the [Small Arms Survey]\n",
    "\n",
    "> *\"The magnitude of the demand for firearms in the United States can be approximated if one is willing to make two assumptions: firstly, that all permit checks are routine procedural checks by states against FBI records and are not associated with an intent to purchase a gun; and, secondly, that all in-store (retailer) checks by licensed firearms dealers against FBI records result in at least one firearms purchase.*\n",
    "\n",
    "> *As approximations go, one may then add ‘handgun’ checks, plus ‘long gun’ checks, plus two ‘multiple’ checks (at least one handgun and one long gun), and augment the resulting number by a factor of 1.1, termed here the multiple gun sales factor (MGSF).\"*\n",
    "\n",
    "Accordingly, only the columns hand gun, long gun and multiple (gun) will be used in the analysis. Estimated total gun sales will be calculated as follows:\n",
    "\n",
    "$Estimated \\ Total \\ Sales=[ (Hand \\ Gun+Long \\ Gun)+(Multiple∗2) ]∗1.1$\n",
    " \n"
   ]
  },
  {
   "cell_type": "markdown",
   "metadata": {},
   "source": [
    "#### NICS Data Cleansing"
   ]
  },
  {
   "cell_type": "code",
   "execution_count": 9,
   "metadata": {
    "scrolled": true
   },
   "outputs": [
    {
     "name": "stderr",
     "output_type": "stream",
     "text": [
      "/Users/hazam/anaconda3/lib/python3.7/site-packages/pandas/core/frame.py:4025: SettingWithCopyWarning: \n",
      "A value is trying to be set on a copy of a slice from a DataFrame\n",
      "\n",
      "See the caveats in the documentation: http://pandas.pydata.org/pandas-docs/stable/indexing.html#indexing-view-versus-copy\n",
      "  return super(DataFrame, self).rename(**kwargs)\n",
      "/Users/hazam/anaconda3/lib/python3.7/site-packages/pandas/core/indexing.py:362: SettingWithCopyWarning: \n",
      "A value is trying to be set on a copy of a slice from a DataFrame.\n",
      "Try using .loc[row_indexer,col_indexer] = value instead\n",
      "\n",
      "See the caveats in the documentation: http://pandas.pydata.org/pandas-docs/stable/indexing.html#indexing-view-versus-copy\n",
      "  self.obj[key] = _infer_fill_value(value)\n",
      "/Users/hazam/anaconda3/lib/python3.7/site-packages/pandas/core/indexing.py:543: SettingWithCopyWarning: \n",
      "A value is trying to be set on a copy of a slice from a DataFrame.\n",
      "Try using .loc[row_indexer,col_indexer] = value instead\n",
      "\n",
      "See the caveats in the documentation: http://pandas.pydata.org/pandas-docs/stable/indexing.html#indexing-view-versus-copy\n",
      "  self.obj[item] = s\n"
     ]
    }
   ],
   "source": [
    "#select only relevant columns based on small arms survey\n",
    "gun_trimmed=gun_data[gun_data.columns[np.r_[0,1,4,5,7]]]\n",
    "\n",
    "\n",
    "#create columns for month and year\n",
    "gun_trimmed.rename(columns={'month':'year_month'},inplace=True)\n",
    "gun_trimmed.loc[:,'year']=gun_trimmed['year_month'].map(lambda x: x[:-3])\n",
    "gun_trimmed.loc[:,'month']=gun_trimmed['year_month'].map(lambda x: x[-2:])\n",
    "gun_trimmed.loc[:,'year']=gun_trimmed.loc[:,'year'].astype('int64')\n",
    "\n",
    "\n",
    "#drop start and ending years with incomplete data\n",
    "gun_trimmed=gun_trimmed.query('year>1998 and year<2017')"
   ]
  },
  {
   "cell_type": "code",
   "execution_count": 10,
   "metadata": {},
   "outputs": [
    {
     "data": {
      "text/plain": [
       "Index(['year', 'month', 'year_month', 'state', 'handgun', 'long_gun',\n",
       "       'multiple'],\n",
       "      dtype='object')"
      ]
     },
     "execution_count": 10,
     "metadata": {},
     "output_type": "execute_result"
    }
   ],
   "source": [
    "#rearrange column names\n",
    "cols=gun_trimmed.columns.tolist()\n",
    "cols=cols[-2:]+cols[:-2]\n",
    "gun_trimmed=gun_trimmed[cols]\n",
    "gun_trimmed.columns"
   ]
  },
  {
   "cell_type": "code",
   "execution_count": 11,
   "metadata": {},
   "outputs": [],
   "source": [
    "#calculate estimated total sales based on Small Arms Survey research\n",
    "gun_trimmed['sales_estimate']=1.1*(gun_trimmed['handgun']+gun_trimmed['long_gun']+gun_trimmed['multiple']*2)\n"
   ]
  },
  {
   "cell_type": "markdown",
   "metadata": {},
   "source": [
    "<a name=\"analysis\"></a>\n",
    "## IV. Data Analysis"
   ]
  },
  {
   "cell_type": "markdown",
   "metadata": {},
   "source": [
    "<a name=\"rq1\"></a>\n",
    "### Research Question 1\n",
    "*What is the distrubtion of the interest in the three gun types as of 2016 across the 50 states in the United States?*"
   ]
  },
  {
   "cell_type": "markdown",
   "metadata": {},
   "source": [
    "#### Methodology:\n",
    "\n",
    "1. Only gun data for 2016 will be examined and the five U.S territories will be excluded."
   ]
  },
  {
   "cell_type": "code",
   "execution_count": 12,
   "metadata": {},
   "outputs": [],
   "source": [
    "fig, ax = py.subplots(figsize = (50,24))\n",
    "territories=['District of Columbia','Mariana Islands','Guam','Puerto Rico','Virgin Islands']\n",
    "sns.barplot(x='state',y='sales_estimate',data=gun_trimmed.query('year==2016 & state!=@territories'))\n",
    "py.xticks(rotation=45,fontsize=24)\n",
    "py.yticks(fontsize=24);\n",
    "py.xlabel('State',fontsize=40)\n",
    "py.ylabel('Estimated Gun Sales',fontsize=40)\n",
    "py.title('Estimated Gun Sales Landscape Across the United States in 2016',  fontsize=50)\n",
    "py.savefig(\"gun_sales_landscape.png\")\n",
    "py.close()             \n",
    "            \n",
    "           "
   ]
  },
  {
   "cell_type": "markdown",
   "metadata": {},
   "source": [
    "<a name=\"rq2\"></a>\n",
    "### Research Question 2\n",
    "*What is the population distrubtion across the United States as of 2016?*"
   ]
  },
  {
   "cell_type": "markdown",
   "metadata": {},
   "source": [
    "#### Methodology:\n",
    "\n",
    "1. Only data for 2016 will be examined and the census data set will be leveraged."
   ]
  },
  {
   "cell_type": "code",
   "execution_count": 13,
   "metadata": {},
   "outputs": [],
   "source": [
    "fig, ax = py.subplots(figsize = (50,24))\n",
    "d=census.iloc[:,[0,1]]\n",
    "d.rename(columns={d.columns[1]:'population'},inplace=True)\n",
    "g=sns.barplot(x='state',y='population',data=d)\n",
    "py.xticks(rotation=45,fontsize=24)\n",
    "py.yticks(fontsize=24)\n",
    "py.ticklabel_format(style='plain', axis='y')\n",
    "py.xlabel('State',fontsize=40)\n",
    "py.ylabel('Population',fontsize=40)\n",
    "py.title('US Population Distribution by State - 2016',  fontsize=50);\n",
    "py.savefig(\"dist_pop.png\")\n",
    "py.close()          \n"
   ]
  },
  {
   "cell_type": "markdown",
   "metadata": {},
   "source": [
    "<a name=\"rq3\"></a>\n",
    "### Research Question 3\n",
    "*What is the estimated gun sales distrubtion across the United States as of 2016?*"
   ]
  },
  {
   "cell_type": "markdown",
   "metadata": {},
   "source": [
    "#### Methodology:\n",
    "\n",
    "1. Only data for 2016 will be examined to construct a distribution plot of estimated gun sales."
   ]
  },
  {
   "cell_type": "code",
   "execution_count": 14,
   "metadata": {},
   "outputs": [],
   "source": [
    "fig, ax = py.subplots(figsize = (10,5))\n",
    "g=sns.distplot(gun_trimmed.query('year==2016').sales_estimate, color='green');\n",
    "py.xlabel('Sales Estimate')\n",
    "py.title('Estimated Gun Sales Distribution - 2016');\n",
    "py.savefig(\"gun_sales_dist.png\")\n",
    "py.close()          \n",
    "        "
   ]
  },
  {
   "cell_type": "markdown",
   "metadata": {},
   "source": [
    "<a name=\"rq4\"></a>\n",
    "### Research Question 4\n",
    "*Which states had the highest and lowest estimated guns per capita?*"
   ]
  },
  {
   "cell_type": "markdown",
   "metadata": {},
   "source": [
    "#### Methodology:\n",
    "\n",
    "1. Guns per capita is calculated as follows:\n",
    "> $Guns \\ per \\ Capita= \\frac{Estimated \\ Gun \\ Sales}{Population}$\n",
    " \n",
    "    Guns per capita will only be calculated for the two years that census population data is available - 2010 and 2016.\n",
    "    \n",
    "<br/>\n",
    "2. NICS and US Census data will be merged on state to create a new data frame with an additional column for guns per capita."
   ]
  },
  {
   "cell_type": "code",
   "execution_count": 15,
   "metadata": {},
   "outputs": [
    {
     "name": "stdout",
     "output_type": "stream",
     "text": [
      "<class 'pandas.core.frame.DataFrame'>\n",
      "Int64Index: 110 entries, 0 to 109\n",
      "Data columns (total 3 columns):\n",
      "state             110 non-null object\n",
      "year              110 non-null int64\n",
      "sales_estimate    110 non-null float64\n",
      "dtypes: float64(1), int64(1), object(1)\n",
      "memory usage: 3.4+ KB\n"
     ]
    }
   ],
   "source": [
    "#gun sales for 2010 and 2016\n",
    "gun_10_16=gun_trimmed.loc[:,['state','year','sales_estimate']].query('year==[\"2010\",\"2016\"]').groupby(['state','year'], as_index=False).sum()\n",
    "gun_10_16.info()"
   ]
  },
  {
   "cell_type": "code",
   "execution_count": 16,
   "metadata": {},
   "outputs": [],
   "source": [
    "#population data for 2010 and 2016\n",
    "p16=census.iloc[:,[0,1]]\n",
    "p16.loc[:,'year'] = [2016] * (len(p16))\n",
    "p16.rename(columns={p16.columns[1]:'population'},inplace=True)\n",
    "p10=census.iloc[:,[0,2]]\n",
    "p10.loc[:,'year'] = [2010] * (len(p10))\n",
    "p10.rename(columns={p10.columns[1]:'population'},inplace=True)\n",
    "population=pd.concat([p10,p16],ignore_index=True)"
   ]
  },
  {
   "cell_type": "code",
   "execution_count": 17,
   "metadata": {},
   "outputs": [],
   "source": [
    "#merge gun sales with population\n",
    "gun_census=pd.merge(population,gun_10_16,left_on=['state','year'],right_on=['state','year'],how='inner')\n",
    "gun_cols=gun_census.columns.tolist()\n",
    "gun_census=gun_census[gun_cols[2:3]+gun_cols[0:2]+gun_cols[3:]]\n",
    "gun_census.loc[:,'guns_per_capita']=gun_census['sales_estimate']/gun_census['population']"
   ]
  },
  {
   "cell_type": "code",
   "execution_count": 18,
   "metadata": {},
   "outputs": [
    {
     "data": {
      "text/html": [
       "<div>\n",
       "<style scoped>\n",
       "    .dataframe tbody tr th:only-of-type {\n",
       "        vertical-align: middle;\n",
       "    }\n",
       "\n",
       "    .dataframe tbody tr th {\n",
       "        vertical-align: top;\n",
       "    }\n",
       "\n",
       "    .dataframe thead th {\n",
       "        text-align: right;\n",
       "    }\n",
       "</style>\n",
       "<table border=\"1\" class=\"dataframe\">\n",
       "  <thead>\n",
       "    <tr style=\"text-align: right;\">\n",
       "      <th></th>\n",
       "      <th>year</th>\n",
       "      <th>state</th>\n",
       "      <th>population</th>\n",
       "      <th>sales_estimate</th>\n",
       "      <th>guns_per_capita</th>\n",
       "    </tr>\n",
       "  </thead>\n",
       "  <tbody>\n",
       "    <tr>\n",
       "      <th>51</th>\n",
       "      <td>2016</td>\n",
       "      <td>Alaska</td>\n",
       "      <td>741894.0</td>\n",
       "      <td>86911.0</td>\n",
       "      <td>0.117147</td>\n",
       "    </tr>\n",
       "    <tr>\n",
       "      <th>90</th>\n",
       "      <td>2016</td>\n",
       "      <td>South Dakota</td>\n",
       "      <td>865454.0</td>\n",
       "      <td>99451.0</td>\n",
       "      <td>0.114912</td>\n",
       "    </tr>\n",
       "    <tr>\n",
       "      <th>97</th>\n",
       "      <td>2016</td>\n",
       "      <td>West Virginia</td>\n",
       "      <td>1831102.0</td>\n",
       "      <td>202174.5</td>\n",
       "      <td>0.110411</td>\n",
       "    </tr>\n",
       "    <tr>\n",
       "      <th>75</th>\n",
       "      <td>2016</td>\n",
       "      <td>Montana</td>\n",
       "      <td>1042520.0</td>\n",
       "      <td>109710.7</td>\n",
       "      <td>0.105236</td>\n",
       "    </tr>\n",
       "    <tr>\n",
       "      <th>99</th>\n",
       "      <td>2016</td>\n",
       "      <td>Wyoming</td>\n",
       "      <td>585501.0</td>\n",
       "      <td>56071.4</td>\n",
       "      <td>0.095767</td>\n",
       "    </tr>\n",
       "  </tbody>\n",
       "</table>\n",
       "</div>"
      ],
      "text/plain": [
       "    year          state  population  sales_estimate  guns_per_capita\n",
       "51  2016         Alaska    741894.0         86911.0         0.117147\n",
       "90  2016   South Dakota    865454.0         99451.0         0.114912\n",
       "97  2016  West Virginia   1831102.0        202174.5         0.110411\n",
       "75  2016        Montana   1042520.0        109710.7         0.105236\n",
       "99  2016        Wyoming    585501.0         56071.4         0.095767"
      ]
     },
     "execution_count": 18,
     "metadata": {},
     "output_type": "execute_result"
    }
   ],
   "source": [
    "#five states with the highest guns per capita in 2016\n",
    "gun_census.loc[gun_census.loc[gun_census.year==2016,\"guns_per_capita\"].nlargest(5).index,:]"
   ]
  },
  {
   "cell_type": "code",
   "execution_count": 19,
   "metadata": {},
   "outputs": [
    {
     "data": {
      "text/html": [
       "<div>\n",
       "<style scoped>\n",
       "    .dataframe tbody tr th:only-of-type {\n",
       "        vertical-align: middle;\n",
       "    }\n",
       "\n",
       "    .dataframe tbody tr th {\n",
       "        vertical-align: top;\n",
       "    }\n",
       "\n",
       "    .dataframe thead th {\n",
       "        text-align: right;\n",
       "    }\n",
       "</style>\n",
       "<table border=\"1\" class=\"dataframe\">\n",
       "  <thead>\n",
       "    <tr style=\"text-align: right;\">\n",
       "      <th></th>\n",
       "      <th>year</th>\n",
       "      <th>state</th>\n",
       "      <th>population</th>\n",
       "      <th>sales_estimate</th>\n",
       "      <th>guns_per_capita</th>\n",
       "    </tr>\n",
       "  </thead>\n",
       "  <tbody>\n",
       "    <tr>\n",
       "      <th>1</th>\n",
       "      <td>2010</td>\n",
       "      <td>Alaska</td>\n",
       "      <td>710249.0</td>\n",
       "      <td>68128.5</td>\n",
       "      <td>0.095922</td>\n",
       "    </tr>\n",
       "    <tr>\n",
       "      <th>25</th>\n",
       "      <td>2010</td>\n",
       "      <td>Montana</td>\n",
       "      <td>989414.0</td>\n",
       "      <td>85250.0</td>\n",
       "      <td>0.086162</td>\n",
       "    </tr>\n",
       "    <tr>\n",
       "      <th>40</th>\n",
       "      <td>2010</td>\n",
       "      <td>South Dakota</td>\n",
       "      <td>814195.0</td>\n",
       "      <td>66053.9</td>\n",
       "      <td>0.081128</td>\n",
       "    </tr>\n",
       "    <tr>\n",
       "      <th>47</th>\n",
       "      <td>2010</td>\n",
       "      <td>West Virginia</td>\n",
       "      <td>1853011.0</td>\n",
       "      <td>141483.1</td>\n",
       "      <td>0.076353</td>\n",
       "    </tr>\n",
       "    <tr>\n",
       "      <th>49</th>\n",
       "      <td>2010</td>\n",
       "      <td>Wyoming</td>\n",
       "      <td>563767.0</td>\n",
       "      <td>41484.3</td>\n",
       "      <td>0.073584</td>\n",
       "    </tr>\n",
       "  </tbody>\n",
       "</table>\n",
       "</div>"
      ],
      "text/plain": [
       "    year          state  population  sales_estimate  guns_per_capita\n",
       "1   2010         Alaska    710249.0         68128.5         0.095922\n",
       "25  2010        Montana    989414.0         85250.0         0.086162\n",
       "40  2010   South Dakota    814195.0         66053.9         0.081128\n",
       "47  2010  West Virginia   1853011.0        141483.1         0.076353\n",
       "49  2010        Wyoming    563767.0         41484.3         0.073584"
      ]
     },
     "execution_count": 19,
     "metadata": {},
     "output_type": "execute_result"
    }
   ],
   "source": [
    "#five states with the highest guns per capita in 2010\n",
    "gun_census.loc[gun_census.loc[gun_census.year==2010,\"guns_per_capita\"].nlargest(5).index,:]"
   ]
  },
  {
   "cell_type": "code",
   "execution_count": 20,
   "metadata": {},
   "outputs": [
    {
     "data": {
      "text/html": [
       "<div>\n",
       "<style scoped>\n",
       "    .dataframe tbody tr th:only-of-type {\n",
       "        vertical-align: middle;\n",
       "    }\n",
       "\n",
       "    .dataframe tbody tr th {\n",
       "        vertical-align: top;\n",
       "    }\n",
       "\n",
       "    .dataframe thead th {\n",
       "        text-align: right;\n",
       "    }\n",
       "</style>\n",
       "<table border=\"1\" class=\"dataframe\">\n",
       "  <thead>\n",
       "    <tr style=\"text-align: right;\">\n",
       "      <th></th>\n",
       "      <th>year</th>\n",
       "      <th>state</th>\n",
       "      <th>population</th>\n",
       "      <th>sales_estimate</th>\n",
       "      <th>guns_per_capita</th>\n",
       "    </tr>\n",
       "  </thead>\n",
       "  <tbody>\n",
       "    <tr>\n",
       "      <th>51</th>\n",
       "      <td>2016</td>\n",
       "      <td>Alaska</td>\n",
       "      <td>741894.0</td>\n",
       "      <td>86911.0</td>\n",
       "      <td>0.117147</td>\n",
       "    </tr>\n",
       "    <tr>\n",
       "      <th>90</th>\n",
       "      <td>2016</td>\n",
       "      <td>South Dakota</td>\n",
       "      <td>865454.0</td>\n",
       "      <td>99451.0</td>\n",
       "      <td>0.114912</td>\n",
       "    </tr>\n",
       "    <tr>\n",
       "      <th>97</th>\n",
       "      <td>2016</td>\n",
       "      <td>West Virginia</td>\n",
       "      <td>1831102.0</td>\n",
       "      <td>202174.5</td>\n",
       "      <td>0.110411</td>\n",
       "    </tr>\n",
       "    <tr>\n",
       "      <th>75</th>\n",
       "      <td>2016</td>\n",
       "      <td>Montana</td>\n",
       "      <td>1042520.0</td>\n",
       "      <td>109710.7</td>\n",
       "      <td>0.105236</td>\n",
       "    </tr>\n",
       "    <tr>\n",
       "      <th>1</th>\n",
       "      <td>2010</td>\n",
       "      <td>Alaska</td>\n",
       "      <td>710249.0</td>\n",
       "      <td>68128.5</td>\n",
       "      <td>0.095922</td>\n",
       "    </tr>\n",
       "  </tbody>\n",
       "</table>\n",
       "</div>"
      ],
      "text/plain": [
       "    year          state  population  sales_estimate  guns_per_capita\n",
       "51  2016         Alaska    741894.0         86911.0         0.117147\n",
       "90  2016   South Dakota    865454.0         99451.0         0.114912\n",
       "97  2016  West Virginia   1831102.0        202174.5         0.110411\n",
       "75  2016        Montana   1042520.0        109710.7         0.105236\n",
       "1   2010         Alaska    710249.0         68128.5         0.095922"
      ]
     },
     "execution_count": 20,
     "metadata": {},
     "output_type": "execute_result"
    }
   ],
   "source": [
    "#five states with the highest guns per capita across 2010 and 2016\n",
    "gun_census.loc[gun_census[\"guns_per_capita\"].nlargest(5).index,:]"
   ]
  },
  {
   "cell_type": "code",
   "execution_count": 21,
   "metadata": {},
   "outputs": [
    {
     "data": {
      "text/html": [
       "<div>\n",
       "<style scoped>\n",
       "    .dataframe tbody tr th:only-of-type {\n",
       "        vertical-align: middle;\n",
       "    }\n",
       "\n",
       "    .dataframe tbody tr th {\n",
       "        vertical-align: top;\n",
       "    }\n",
       "\n",
       "    .dataframe thead th {\n",
       "        text-align: right;\n",
       "    }\n",
       "</style>\n",
       "<table border=\"1\" class=\"dataframe\">\n",
       "  <thead>\n",
       "    <tr style=\"text-align: right;\">\n",
       "      <th></th>\n",
       "      <th>year</th>\n",
       "      <th>state</th>\n",
       "      <th>population</th>\n",
       "      <th>sales_estimate</th>\n",
       "      <th>guns_per_capita</th>\n",
       "    </tr>\n",
       "  </thead>\n",
       "  <tbody>\n",
       "    <tr>\n",
       "      <th>60</th>\n",
       "      <td>2016</td>\n",
       "      <td>Hawaii</td>\n",
       "      <td>1428557.0</td>\n",
       "      <td>0.0</td>\n",
       "      <td>0.000000</td>\n",
       "    </tr>\n",
       "    <tr>\n",
       "      <th>64</th>\n",
       "      <td>2016</td>\n",
       "      <td>Iowa</td>\n",
       "      <td>3134693.0</td>\n",
       "      <td>42002.4</td>\n",
       "      <td>0.013399</td>\n",
       "    </tr>\n",
       "    <tr>\n",
       "      <th>79</th>\n",
       "      <td>2016</td>\n",
       "      <td>New Jersey</td>\n",
       "      <td>8944469.0</td>\n",
       "      <td>131282.8</td>\n",
       "      <td>0.014678</td>\n",
       "    </tr>\n",
       "    <tr>\n",
       "      <th>76</th>\n",
       "      <td>2016</td>\n",
       "      <td>Nebraska</td>\n",
       "      <td>1907116.0</td>\n",
       "      <td>31212.5</td>\n",
       "      <td>0.016366</td>\n",
       "    </tr>\n",
       "    <tr>\n",
       "      <th>81</th>\n",
       "      <td>2016</td>\n",
       "      <td>New York</td>\n",
       "      <td>19745289.0</td>\n",
       "      <td>369475.7</td>\n",
       "      <td>0.018712</td>\n",
       "    </tr>\n",
       "  </tbody>\n",
       "</table>\n",
       "</div>"
      ],
      "text/plain": [
       "    year       state  population  sales_estimate  guns_per_capita\n",
       "60  2016      Hawaii   1428557.0             0.0         0.000000\n",
       "64  2016        Iowa   3134693.0         42002.4         0.013399\n",
       "79  2016  New Jersey   8944469.0        131282.8         0.014678\n",
       "76  2016    Nebraska   1907116.0         31212.5         0.016366\n",
       "81  2016    New York  19745289.0        369475.7         0.018712"
      ]
     },
     "execution_count": 21,
     "metadata": {},
     "output_type": "execute_result"
    }
   ],
   "source": [
    "#five states with the lowest guns per capita in 2016\n",
    "gun_census.loc[gun_census.loc[gun_census.year==2016,\"guns_per_capita\"].nsmallest(5).index,:]"
   ]
  },
  {
   "cell_type": "code",
   "execution_count": 22,
   "metadata": {},
   "outputs": [
    {
     "data": {
      "text/html": [
       "<div>\n",
       "<style scoped>\n",
       "    .dataframe tbody tr th:only-of-type {\n",
       "        vertical-align: middle;\n",
       "    }\n",
       "\n",
       "    .dataframe tbody tr th {\n",
       "        vertical-align: top;\n",
       "    }\n",
       "\n",
       "    .dataframe thead th {\n",
       "        text-align: right;\n",
       "    }\n",
       "</style>\n",
       "<table border=\"1\" class=\"dataframe\">\n",
       "  <thead>\n",
       "    <tr style=\"text-align: right;\">\n",
       "      <th></th>\n",
       "      <th>year</th>\n",
       "      <th>state</th>\n",
       "      <th>population</th>\n",
       "      <th>sales_estimate</th>\n",
       "      <th>guns_per_capita</th>\n",
       "    </tr>\n",
       "  </thead>\n",
       "  <tbody>\n",
       "    <tr>\n",
       "      <th>10</th>\n",
       "      <td>2010</td>\n",
       "      <td>Hawaii</td>\n",
       "      <td>1360301.0</td>\n",
       "      <td>0.0</td>\n",
       "      <td>0.000000</td>\n",
       "    </tr>\n",
       "    <tr>\n",
       "      <th>29</th>\n",
       "      <td>2010</td>\n",
       "      <td>New Jersey</td>\n",
       "      <td>8791953.0</td>\n",
       "      <td>56541.1</td>\n",
       "      <td>0.006431</td>\n",
       "    </tr>\n",
       "    <tr>\n",
       "      <th>20</th>\n",
       "      <td>2010</td>\n",
       "      <td>Massachusetts</td>\n",
       "      <td>6547813.0</td>\n",
       "      <td>63191.7</td>\n",
       "      <td>0.009651</td>\n",
       "    </tr>\n",
       "    <tr>\n",
       "      <th>31</th>\n",
       "      <td>2010</td>\n",
       "      <td>New York</td>\n",
       "      <td>19378110.0</td>\n",
       "      <td>230125.5</td>\n",
       "      <td>0.011876</td>\n",
       "    </tr>\n",
       "    <tr>\n",
       "      <th>14</th>\n",
       "      <td>2010</td>\n",
       "      <td>Iowa</td>\n",
       "      <td>3046869.0</td>\n",
       "      <td>45188.0</td>\n",
       "      <td>0.014831</td>\n",
       "    </tr>\n",
       "  </tbody>\n",
       "</table>\n",
       "</div>"
      ],
      "text/plain": [
       "    year          state  population  sales_estimate  guns_per_capita\n",
       "10  2010         Hawaii   1360301.0             0.0         0.000000\n",
       "29  2010     New Jersey   8791953.0         56541.1         0.006431\n",
       "20  2010  Massachusetts   6547813.0         63191.7         0.009651\n",
       "31  2010       New York  19378110.0        230125.5         0.011876\n",
       "14  2010           Iowa   3046869.0         45188.0         0.014831"
      ]
     },
     "execution_count": 22,
     "metadata": {},
     "output_type": "execute_result"
    }
   ],
   "source": [
    "#five states with the lowest guns per capita in 2010\n",
    "gun_census.loc[gun_census.loc[gun_census.year==2010,\"guns_per_capita\"].nsmallest(5).index,:]\n"
   ]
  },
  {
   "cell_type": "code",
   "execution_count": 23,
   "metadata": {},
   "outputs": [
    {
     "data": {
      "text/html": [
       "<div>\n",
       "<style scoped>\n",
       "    .dataframe tbody tr th:only-of-type {\n",
       "        vertical-align: middle;\n",
       "    }\n",
       "\n",
       "    .dataframe tbody tr th {\n",
       "        vertical-align: top;\n",
       "    }\n",
       "\n",
       "    .dataframe thead th {\n",
       "        text-align: right;\n",
       "    }\n",
       "</style>\n",
       "<table border=\"1\" class=\"dataframe\">\n",
       "  <thead>\n",
       "    <tr style=\"text-align: right;\">\n",
       "      <th></th>\n",
       "      <th>year</th>\n",
       "      <th>state</th>\n",
       "      <th>population</th>\n",
       "      <th>sales_estimate</th>\n",
       "      <th>guns_per_capita</th>\n",
       "    </tr>\n",
       "  </thead>\n",
       "  <tbody>\n",
       "    <tr>\n",
       "      <th>10</th>\n",
       "      <td>2010</td>\n",
       "      <td>Hawaii</td>\n",
       "      <td>1360301.0</td>\n",
       "      <td>0.0</td>\n",
       "      <td>0.000000</td>\n",
       "    </tr>\n",
       "    <tr>\n",
       "      <th>60</th>\n",
       "      <td>2016</td>\n",
       "      <td>Hawaii</td>\n",
       "      <td>1428557.0</td>\n",
       "      <td>0.0</td>\n",
       "      <td>0.000000</td>\n",
       "    </tr>\n",
       "    <tr>\n",
       "      <th>29</th>\n",
       "      <td>2010</td>\n",
       "      <td>New Jersey</td>\n",
       "      <td>8791953.0</td>\n",
       "      <td>56541.1</td>\n",
       "      <td>0.006431</td>\n",
       "    </tr>\n",
       "    <tr>\n",
       "      <th>20</th>\n",
       "      <td>2010</td>\n",
       "      <td>Massachusetts</td>\n",
       "      <td>6547813.0</td>\n",
       "      <td>63191.7</td>\n",
       "      <td>0.009651</td>\n",
       "    </tr>\n",
       "    <tr>\n",
       "      <th>31</th>\n",
       "      <td>2010</td>\n",
       "      <td>New York</td>\n",
       "      <td>19378110.0</td>\n",
       "      <td>230125.5</td>\n",
       "      <td>0.011876</td>\n",
       "    </tr>\n",
       "  </tbody>\n",
       "</table>\n",
       "</div>"
      ],
      "text/plain": [
       "    year          state  population  sales_estimate  guns_per_capita\n",
       "10  2010         Hawaii   1360301.0             0.0         0.000000\n",
       "60  2016         Hawaii   1428557.0             0.0         0.000000\n",
       "29  2010     New Jersey   8791953.0         56541.1         0.006431\n",
       "20  2010  Massachusetts   6547813.0         63191.7         0.009651\n",
       "31  2010       New York  19378110.0        230125.5         0.011876"
      ]
     },
     "execution_count": 23,
     "metadata": {},
     "output_type": "execute_result"
    }
   ],
   "source": [
    "#five states with the lowest guns per capit across 2010 and 2016\n",
    "gun_census.loc[gun_census[\"guns_per_capita\"].nsmallest(5).index,:]"
   ]
  },
  {
   "cell_type": "code",
   "execution_count": 24,
   "metadata": {},
   "outputs": [
    {
     "data": {
      "text/html": [
       "<div>\n",
       "<style scoped>\n",
       "    .dataframe tbody tr th:only-of-type {\n",
       "        vertical-align: middle;\n",
       "    }\n",
       "\n",
       "    .dataframe tbody tr th {\n",
       "        vertical-align: top;\n",
       "    }\n",
       "\n",
       "    .dataframe thead th {\n",
       "        text-align: right;\n",
       "    }\n",
       "</style>\n",
       "<table border=\"1\" class=\"dataframe\">\n",
       "  <thead>\n",
       "    <tr style=\"text-align: right;\">\n",
       "      <th></th>\n",
       "      <th>month</th>\n",
       "      <th>state</th>\n",
       "      <th>permit</th>\n",
       "      <th>permit_recheck</th>\n",
       "      <th>handgun</th>\n",
       "      <th>long_gun</th>\n",
       "      <th>other</th>\n",
       "      <th>multiple</th>\n",
       "      <th>admin</th>\n",
       "      <th>prepawn_handgun</th>\n",
       "      <th>...</th>\n",
       "      <th>returned_other</th>\n",
       "      <th>rentals_handgun</th>\n",
       "      <th>rentals_long_gun</th>\n",
       "      <th>private_sale_handgun</th>\n",
       "      <th>private_sale_long_gun</th>\n",
       "      <th>private_sale_other</th>\n",
       "      <th>return_to_seller_handgun</th>\n",
       "      <th>return_to_seller_long_gun</th>\n",
       "      <th>return_to_seller_other</th>\n",
       "      <th>totals</th>\n",
       "    </tr>\n",
       "  </thead>\n",
       "  <tbody>\n",
       "    <tr>\n",
       "      <th>12</th>\n",
       "      <td>2017-09</td>\n",
       "      <td>Hawaii</td>\n",
       "      <td>946.0</td>\n",
       "      <td>0.0</td>\n",
       "      <td>0.0</td>\n",
       "      <td>0.0</td>\n",
       "      <td>0.0</td>\n",
       "      <td>0</td>\n",
       "      <td>0.0</td>\n",
       "      <td>0.0</td>\n",
       "      <td>...</td>\n",
       "      <td>0.0</td>\n",
       "      <td>0.0</td>\n",
       "      <td>0.0</td>\n",
       "      <td>0.0</td>\n",
       "      <td>0.0</td>\n",
       "      <td>0.0</td>\n",
       "      <td>0.0</td>\n",
       "      <td>0.0</td>\n",
       "      <td>0.0</td>\n",
       "      <td>948</td>\n",
       "    </tr>\n",
       "    <tr>\n",
       "      <th>67</th>\n",
       "      <td>2017-08</td>\n",
       "      <td>Hawaii</td>\n",
       "      <td>1077.0</td>\n",
       "      <td>0.0</td>\n",
       "      <td>0.0</td>\n",
       "      <td>0.0</td>\n",
       "      <td>0.0</td>\n",
       "      <td>0</td>\n",
       "      <td>0.0</td>\n",
       "      <td>0.0</td>\n",
       "      <td>...</td>\n",
       "      <td>0.0</td>\n",
       "      <td>0.0</td>\n",
       "      <td>0.0</td>\n",
       "      <td>0.0</td>\n",
       "      <td>0.0</td>\n",
       "      <td>0.0</td>\n",
       "      <td>0.0</td>\n",
       "      <td>0.0</td>\n",
       "      <td>0.0</td>\n",
       "      <td>1079</td>\n",
       "    </tr>\n",
       "    <tr>\n",
       "      <th>122</th>\n",
       "      <td>2017-07</td>\n",
       "      <td>Hawaii</td>\n",
       "      <td>1107.0</td>\n",
       "      <td>0.0</td>\n",
       "      <td>0.0</td>\n",
       "      <td>0.0</td>\n",
       "      <td>0.0</td>\n",
       "      <td>0</td>\n",
       "      <td>0.0</td>\n",
       "      <td>0.0</td>\n",
       "      <td>...</td>\n",
       "      <td>0.0</td>\n",
       "      <td>0.0</td>\n",
       "      <td>0.0</td>\n",
       "      <td>0.0</td>\n",
       "      <td>0.0</td>\n",
       "      <td>0.0</td>\n",
       "      <td>0.0</td>\n",
       "      <td>0.0</td>\n",
       "      <td>0.0</td>\n",
       "      <td>1109</td>\n",
       "    </tr>\n",
       "    <tr>\n",
       "      <th>177</th>\n",
       "      <td>2017-06</td>\n",
       "      <td>Hawaii</td>\n",
       "      <td>1082.0</td>\n",
       "      <td>0.0</td>\n",
       "      <td>0.0</td>\n",
       "      <td>0.0</td>\n",
       "      <td>0.0</td>\n",
       "      <td>0</td>\n",
       "      <td>0.0</td>\n",
       "      <td>0.0</td>\n",
       "      <td>...</td>\n",
       "      <td>0.0</td>\n",
       "      <td>0.0</td>\n",
       "      <td>0.0</td>\n",
       "      <td>0.0</td>\n",
       "      <td>0.0</td>\n",
       "      <td>0.0</td>\n",
       "      <td>0.0</td>\n",
       "      <td>0.0</td>\n",
       "      <td>0.0</td>\n",
       "      <td>1083</td>\n",
       "    </tr>\n",
       "    <tr>\n",
       "      <th>232</th>\n",
       "      <td>2017-05</td>\n",
       "      <td>Hawaii</td>\n",
       "      <td>1114.0</td>\n",
       "      <td>0.0</td>\n",
       "      <td>0.0</td>\n",
       "      <td>0.0</td>\n",
       "      <td>0.0</td>\n",
       "      <td>0</td>\n",
       "      <td>0.0</td>\n",
       "      <td>0.0</td>\n",
       "      <td>...</td>\n",
       "      <td>0.0</td>\n",
       "      <td>0.0</td>\n",
       "      <td>0.0</td>\n",
       "      <td>0.0</td>\n",
       "      <td>0.0</td>\n",
       "      <td>0.0</td>\n",
       "      <td>0.0</td>\n",
       "      <td>0.0</td>\n",
       "      <td>0.0</td>\n",
       "      <td>1117</td>\n",
       "    </tr>\n",
       "  </tbody>\n",
       "</table>\n",
       "<p>5 rows × 27 columns</p>\n",
       "</div>"
      ],
      "text/plain": [
       "       month   state  permit  permit_recheck  handgun  long_gun  other  \\\n",
       "12   2017-09  Hawaii   946.0             0.0      0.0       0.0    0.0   \n",
       "67   2017-08  Hawaii  1077.0             0.0      0.0       0.0    0.0   \n",
       "122  2017-07  Hawaii  1107.0             0.0      0.0       0.0    0.0   \n",
       "177  2017-06  Hawaii  1082.0             0.0      0.0       0.0    0.0   \n",
       "232  2017-05  Hawaii  1114.0             0.0      0.0       0.0    0.0   \n",
       "\n",
       "     multiple  admin  prepawn_handgun  ...  returned_other  rentals_handgun  \\\n",
       "12          0    0.0              0.0  ...             0.0              0.0   \n",
       "67          0    0.0              0.0  ...             0.0              0.0   \n",
       "122         0    0.0              0.0  ...             0.0              0.0   \n",
       "177         0    0.0              0.0  ...             0.0              0.0   \n",
       "232         0    0.0              0.0  ...             0.0              0.0   \n",
       "\n",
       "     rentals_long_gun  private_sale_handgun  private_sale_long_gun  \\\n",
       "12                0.0                   0.0                    0.0   \n",
       "67                0.0                   0.0                    0.0   \n",
       "122               0.0                   0.0                    0.0   \n",
       "177               0.0                   0.0                    0.0   \n",
       "232               0.0                   0.0                    0.0   \n",
       "\n",
       "     private_sale_other  return_to_seller_handgun  return_to_seller_long_gun  \\\n",
       "12                  0.0                       0.0                        0.0   \n",
       "67                  0.0                       0.0                        0.0   \n",
       "122                 0.0                       0.0                        0.0   \n",
       "177                 0.0                       0.0                        0.0   \n",
       "232                 0.0                       0.0                        0.0   \n",
       "\n",
       "     return_to_seller_other  totals  \n",
       "12                      0.0     948  \n",
       "67                      0.0    1079  \n",
       "122                     0.0    1109  \n",
       "177                     0.0    1083  \n",
       "232                     0.0    1117  \n",
       "\n",
       "[5 rows x 27 columns]"
      ]
     },
     "execution_count": 24,
     "metadata": {},
     "output_type": "execute_result"
    }
   ],
   "source": [
    "#hawaii appears to only carry out permit checks\n",
    "gun_data[gun_data.state==\"Hawaii\"].head()"
   ]
  },
  {
   "cell_type": "markdown",
   "metadata": {},
   "source": [
    "<a name=\"rq5\"></a>\n",
    "### Research Question 5\n",
    "*Which variable in the Census Data has the highest correlation with estimated guns per capita?*\n"
   ]
  },
  {
   "cell_type": "markdown",
   "metadata": {},
   "source": [
    "#### Methodology:\n",
    "1. 2010 and 2016 guns per capita will be analyzed separately.\n",
    "2. The 2010 estimated guns per capita should be compared with:<br/>\n",
    "   a) all census variables (for consistency when comparing the results of the correlation analysis of the 2016 estimated gun sales).\n",
    "   <br/> \n",
    "   b) census variables only relating to 2010"
   ]
  },
  {
   "cell_type": "markdown",
   "metadata": {},
   "source": [
    "**a) Correlation between Estimated Guns per Capita in 2010 and US Census**"
   ]
  },
  {
   "cell_type": "code",
   "execution_count": 25,
   "metadata": {},
   "outputs": [],
   "source": [
    "#merge estimated guns per capita in 2010 with US census data\n",
    "g10=gun_census.query('year==\"2010\"').loc[:,['state','guns_per_capita']]\n",
    "gc10_1=pd.merge(census,g10,how='inner',on='state')\n",
    "\n",
    "\n",
    "#calculate the correlation coefficient between guns per capita in 2010 and all census variables \n",
    "c10_1=gc10_1[gc10_1.columns[1:]].corr(method='pearson')['guns_per_capita'][:-1]\n",
    "ac10_1=abs(c10_1)\n",
    "correlations_10_1=pd.DataFrame({'corr_10': c10_1, 'abs_corr_10': ac10_1})"
   ]
  },
  {
   "cell_type": "code",
   "execution_count": 26,
   "metadata": {},
   "outputs": [
    {
     "data": {
      "text/plain": [
       "corr_10       -0.618973\n",
       "abs_corr_10    0.618973\n",
       "Name: Foreign born persons, percent, 2011-2015, dtype: float64"
      ]
     },
     "execution_count": 26,
     "metadata": {},
     "output_type": "execute_result"
    }
   ],
   "source": [
    "#census variable with the highest correlation to guns per capita in 2010 \n",
    "correlations_10_1.loc[correlations_10_1['abs_corr_10'].idxmax()]"
   ]
  },
  {
   "cell_type": "markdown",
   "metadata": {},
   "source": [
    "**b) Correlation between Estimated Guns per Capita in 2010 and US Census 2010**"
   ]
  },
  {
   "cell_type": "code",
   "execution_count": 27,
   "metadata": {},
   "outputs": [],
   "source": [
    "#extract census variables for 2010\n",
    "c10_cols=census.loc[:,census.columns.str.contains('2010')].columns.tolist()\n",
    "c10_cols[0]='state'\n",
    "c10=census[c10_cols]\n",
    "\n",
    "\n",
    "#merge estimated guns per capita in 2010 with US Census data for 2010\n",
    "gc10_2=pd.merge(c10,g10,how='inner',on='state')\n",
    "\n",
    "\n",
    "\n",
    "#calculate the correlation coefficient between guns per capita in 2010 and 2010 census variables \n",
    "c10_2=gc10_2[gc10_2.columns[1:]].corr(method='pearson')['guns_per_capita'][:-1]\n",
    "ac10_2=abs(c10_2)\n",
    "correlations_10_2=pd.DataFrame({'corr_10': c10_2, 'abs_corr_10': ac10_2})"
   ]
  },
  {
   "cell_type": "code",
   "execution_count": 28,
   "metadata": {},
   "outputs": [
    {
     "data": {
      "text/plain": [
       "corr_10       -0.55689\n",
       "abs_corr_10    0.55689\n",
       "Name: Population per square mile, 2010, dtype: float64"
      ]
     },
     "execution_count": 28,
     "metadata": {},
     "output_type": "execute_result"
    }
   ],
   "source": [
    "#2010 census variable with the highest correlation to guns per capita in 2010 \n",
    "correlations_10_2.loc[correlations_10_2['abs_corr_10'].idxmax()]"
   ]
  },
  {
   "cell_type": "markdown",
   "metadata": {},
   "source": [
    "**c) Correlation between Estimated Guns per Capita in 2016 and US Census**"
   ]
  },
  {
   "cell_type": "code",
   "execution_count": 29,
   "metadata": {},
   "outputs": [],
   "source": [
    "#merge estimated guns per capita in 2016 with US census data\n",
    "g16=gun_census.query('year==\"2016\"').loc[:,['state','guns_per_capita']]\n",
    "gc16=pd.merge(census,g16,how='inner',on='state')\n",
    "\n",
    "\n",
    "c16=gc16[gc16.columns[1:]].corr()['guns_per_capita'][:-1]\n",
    "ac16=abs(gc16[gc16.columns[1:]].corr()['guns_per_capita'][:-1])\n",
    "correlations_16=pd.DataFrame({'corr': c16, 'abs_corr': ac16})"
   ]
  },
  {
   "cell_type": "code",
   "execution_count": 30,
   "metadata": {},
   "outputs": [
    {
     "data": {
      "text/plain": [
       "corr       -0.618576\n",
       "abs_corr    0.618576\n",
       "Name: Foreign born persons, percent, 2011-2015, dtype: float64"
      ]
     },
     "execution_count": 30,
     "metadata": {},
     "output_type": "execute_result"
    }
   ],
   "source": [
    "correlations_16.loc[correlations_16['abs_corr'].idxmax()]"
   ]
  },
  {
   "cell_type": "markdown",
   "metadata": {},
   "source": [
    "**d) Correlation Plots**"
   ]
  },
  {
   "cell_type": "code",
   "execution_count": 31,
   "metadata": {},
   "outputs": [
    {
     "data": {
      "image/png": "[encoded data removed]",
      "text/plain": [
       "<Figure size 648x360 with 1 Axes>"
      ]
     },
     "metadata": {
      "needs_background": "light"
     },
     "output_type": "display_data"
    }
   ],
   "source": [
    "#census variable with the highest correlation to guns per capita in 2010 \n",
    "fig, ax = py.subplots(figsize = (9,5))\n",
    "sns.regplot(gc10_1['Foreign born persons, percent, 2011-2015'],gc10_1['guns_per_capita'])\n",
    "py.title('Correlation between Estimated Guns per Capita and Percent of Foreigners')\n",
    "py.xlabel('Percent of Foreigners [2011-2015]')\n",
    "py.ylabel('Estimated Guns per Capita 2010')\n",
    "py.savefig('correlation_1.png')\n"
   ]
  },
  {
   "cell_type": "code",
   "execution_count": 32,
   "metadata": {},
   "outputs": [
    {
     "data": {
      "image/png": "[encoded data removed]",
      "text/plain": [
       "<Figure size 648x360 with 1 Axes>"
      ]
     },
     "metadata": {
      "needs_background": "light"
     },
     "output_type": "display_data"
    }
   ],
   "source": [
    "#2010 census variable with the highest correlation to guns per capita in 2010 \n",
    "fig, ax = py.subplots(figsize = (9,5))\n",
    "sns.regplot(gc10_2['Population per square mile, 2010'],gc10_2['guns_per_capita'])\n",
    "py.title('Correlation between Estimated Guns per Capita and Percent of Foreigners')\n",
    "py.xlabel('Population per Square Mile 2010')\n",
    "py.ylabel('Estimated Guns per Capita 2010')\n",
    "py.savefig('correlation_2.png')\n"
   ]
  },
  {
   "cell_type": "code",
   "execution_count": 33,
   "metadata": {},
   "outputs": [
    {
     "data": {
      "image/png": "[encoded data removed]",
      "text/plain": [
       "<Figure size 648x360 with 1 Axes>"
      ]
     },
     "metadata": {
      "needs_background": "light"
     },
     "output_type": "display_data"
    }
   ],
   "source": [
    "#census variable with the highest correlation to guns per capita in 2016 \n",
    "fig, ax = py.subplots(figsize = (9,5))\n",
    "sns.regplot(gc16['Foreign born persons, percent, 2011-2015'],gc16['guns_per_capita'])\n",
    "py.title('Correlation between Estimated Guns per Capita and Percent of Foreigners')\n",
    "py.xlabel('Percent of Foreigners [2011-2015]')\n",
    "py.ylabel('Estimated Guns per Capita 2016')\n",
    "py.savefig('correlation_3.png')"
   ]
  },
  {
   "cell_type": "markdown",
   "metadata": {},
   "source": [
    "<a name=\"rq6\"></a>\n",
    "### Research Question 6\n",
    "*Which states at the highest rate of growth in estimated gun sales?*"
   ]
  },
  {
   "cell_type": "markdown",
   "metadata": {},
   "source": [
    "#### Methodology:\n",
    "1. Compound Annual Growth Rate will be used to measure growth in estimated gun sales between 1999 and 2016 Compound Annual Growth Rate was chosen because it dampens the effect of volatility of periodic sales.\n",
    "> $CAGR= (\\frac {Last Year Sales}{First Year Sales})^{1/n} − 1$\n",
    "    > <br/>\n",
    "    where $n$ is the number of years"
   ]
  },
  {
   "cell_type": "code",
   "execution_count": 34,
   "metadata": {},
   "outputs": [
    {
     "data": {
      "text/html": [
       "<div>\n",
       "<style scoped>\n",
       "    .dataframe tbody tr th:only-of-type {\n",
       "        vertical-align: middle;\n",
       "    }\n",
       "\n",
       "    .dataframe tbody tr th {\n",
       "        vertical-align: top;\n",
       "    }\n",
       "\n",
       "    .dataframe thead th {\n",
       "        text-align: right;\n",
       "    }\n",
       "</style>\n",
       "<table border=\"1\" class=\"dataframe\">\n",
       "  <thead>\n",
       "    <tr style=\"text-align: right;\">\n",
       "      <th></th>\n",
       "      <th>first_year</th>\n",
       "      <th>last_year</th>\n",
       "      <th>ratio</th>\n",
       "    </tr>\n",
       "    <tr>\n",
       "      <th>state</th>\n",
       "      <th></th>\n",
       "      <th></th>\n",
       "      <th></th>\n",
       "    </tr>\n",
       "  </thead>\n",
       "  <tbody>\n",
       "    <tr>\n",
       "      <th>District of Columbia</th>\n",
       "      <td>23.1</td>\n",
       "      <td>812.9</td>\n",
       "      <td>0.218744</td>\n",
       "    </tr>\n",
       "    <tr>\n",
       "      <th>Guam</th>\n",
       "      <td>193.6</td>\n",
       "      <td>2247.3</td>\n",
       "      <td>0.145917</td>\n",
       "    </tr>\n",
       "    <tr>\n",
       "      <th>Massachusetts</th>\n",
       "      <td>21639.2</td>\n",
       "      <td>135154.8</td>\n",
       "      <td>0.107132</td>\n",
       "    </tr>\n",
       "    <tr>\n",
       "      <th>Florida</th>\n",
       "      <td>292213.9</td>\n",
       "      <td>1131706.4</td>\n",
       "      <td>0.078123</td>\n",
       "    </tr>\n",
       "    <tr>\n",
       "      <th>Connecticut</th>\n",
       "      <td>49908.1</td>\n",
       "      <td>182806.8</td>\n",
       "      <td>0.074789</td>\n",
       "    </tr>\n",
       "  </tbody>\n",
       "</table>\n",
       "</div>"
      ],
      "text/plain": [
       "                      first_year  last_year     ratio\n",
       "state                                                \n",
       "District of Columbia        23.1      812.9  0.218744\n",
       "Guam                       193.6     2247.3  0.145917\n",
       "Massachusetts            21639.2   135154.8  0.107132\n",
       "Florida                 292213.9  1131706.4  0.078123\n",
       "Connecticut              49908.1   182806.8  0.074789"
      ]
     },
     "execution_count": 34,
     "metadata": {},
     "output_type": "execute_result"
    }
   ],
   "source": [
    "#extract gun sales for the first and last year for each state\n",
    "first_year=gun_trimmed[gun_trimmed['year']==1999].loc[:,['state','sales_estimate','year_month']]\n",
    "first_year=first_year.groupby(['state']).sum()['sales_estimate']\n",
    "last_year=gun_trimmed[gun_trimmed['year']==2016].loc[:,['state','sales_estimate','year_month']]\n",
    "last_year=last_year.groupby(['state']).sum()['sales_estimate']\n",
    "\n",
    "\n",
    "#calculate CAGR for each state\n",
    "growths=pd.DataFrame({'first_year':first_year,'last_year':last_year,'ratio':last_year/first_year})\n",
    "growths['ratio']=((growths['last_year']/growths['first_year'])**(1/18))-1\n",
    "growths=growths.replace(np.inf,np.nan)\n",
    "\n",
    "#identify states with the five highest CAGRs \n",
    "growths.sort_values(by='ratio',ascending=False).head(5)"
   ]
  },
  {
   "cell_type": "markdown",
   "metadata": {},
   "source": [
    "<a name=\"rq7\"></a>\n",
    "### Research Question 7\n",
    "*What are trends in estimated gun sales over time?*\n"
   ]
  },
  {
   "cell_type": "markdown",
   "metadata": {},
   "source": [
    "#### Methodology:\n",
    "\n",
    "1. Aggregate the estimated sales across each state to show the overall trend in estimated gun sales between 1999 and 2016 in America.\n",
    "2. Adjust for seasonality by using the rolling method whch splits the data into windows of time (in this case each window will be a period of 12 months). The data in each window is then aggregated calculating the mean. The windows overlap and 'roll' at the same frequency as the data so the transformed time series is at the same frequency as the original time series. Adjusting for seasonality smooths out periodic fluctuations in the data to observe long term trends."
   ]
  },
  {
   "cell_type": "code",
   "execution_count": 35,
   "metadata": {},
   "outputs": [],
   "source": [
    "import matplotlib.dates as mdates\n",
    "sales_by_year=gun_trimmed.groupby(['year_month']).sum()['sales_estimate'].astype('int64')\n",
    "sales_by_year=pd.DataFrame({'year_month':sales_by_year.index,\n",
    "                            'sales':sales_by_year}).reset_index(drop=True)\n"
   ]
  },
  {
   "cell_type": "code",
   "execution_count": 36,
   "metadata": {},
   "outputs": [],
   "source": [
    "sales_by_year['seasonally_adjusted']=sales_by_year['sales'].rolling(window=12, center=True, min_periods=12).mean().fillna(0).astype(\"int32\")\n",
    "sales_by_year['year_month']=pd.to_datetime(sales_by_year['year_month'])\n"
   ]
  },
  {
   "cell_type": "code",
   "execution_count": 37,
   "metadata": {},
   "outputs": [
    {
     "name": "stderr",
     "output_type": "stream",
     "text": [
      "/Users/hazam/anaconda3/lib/python3.7/site-packages/pandas/plotting/_converter.py:129: FutureWarning: Using an implicitly registered datetime converter for a matplotlib plotting method. The converter was registered by pandas on import. Future versions of pandas will require you to explicitly register matplotlib converters.\n",
      "\n",
      "To register the converters:\n",
      "\t>>> from pandas.plotting import register_matplotlib_converters\n",
      "\t>>> register_matplotlib_converters()\n",
      "  warnings.warn(msg, FutureWarning)\n"
     ]
    },
    {
     "data": {
      "image/png": "[encoded data removed]",
      "text/plain": [
       "<Figure size 1152x720 with 1 Axes>"
      ]
     },
     "metadata": {
      "needs_background": "light"
     },
     "output_type": "display_data"
    }
   ],
   "source": [
    "#Unadjusted for seasonality\n",
    "\n",
    "fig, ax = py.subplots(figsize = (16,10))\n",
    "sns.lineplot(x=\"year_month\", y=\"sales\", data=sales_by_year)\n",
    "py.title('Estimated Gun Sales in US States and Territories 1999-2016')\n",
    "py.xlabel('Year')\n",
    "py.ylabel('Estimated Gun Sales')\n",
    "py.savefig(\"trend_unadjusted.png\")\n"
   ]
  },
  {
   "cell_type": "code",
   "execution_count": 38,
   "metadata": {},
   "outputs": [
    {
     "data": {
      "image/png": "[encoded data removed]",
      "text/plain": [
       "<Figure size 1152x720 with 1 Axes>"
      ]
     },
     "metadata": {
      "needs_background": "light"
     },
     "output_type": "display_data"
    }
   ],
   "source": [
    "#Seasonally adjusted\n",
    "\n",
    "fig, ax = py.subplots(figsize = (16,10))\n",
    "sales_by_year=sales_by_year[sales_by_year[\"year_month\"]>'1999-12-01']\n",
    "sales_by_year=sales_by_year[sales_by_year[\"year_month\"]<'2016-01-01']\n",
    "sns.lineplot(x=\"year_month\", y=\"seasonally_adjusted\", data=sales_by_year)\n",
    "py.title('Estimated Gun Sales in US States and Territories 1999-2016')\n",
    "py.xlabel('Year')\n",
    "py.ylabel('Estimated Gun Sales')\n",
    "py.savefig(\"seasonally_adjusted.png\")\n"
   ]
  },
  {
   "cell_type": "markdown",
   "metadata": {},
   "source": [
    "<a name=\"rq8\"></a>\n",
    "### Research Question 8:\n",
    "*What is the seasonal (monthly) trend in estimated gun sales?* \n"
   ]
  },
  {
   "cell_type": "markdown",
   "metadata": {},
   "source": [
    "#### Methodology:\n",
    "1. Group the estimated gun sales by month and sum across each state and year to capture the change in estimated gun sale\n",
    "s across a year."
   ]
  },
  {
   "cell_type": "code",
   "execution_count": 39,
   "metadata": {},
   "outputs": [
    {
     "ename": "SyntaxError",
     "evalue": "invalid syntax (<ipython-input-39-1a3356220f54>, line 3)",
     "output_type": "error",
     "traceback": [
      "\u001b[0;36m  File \u001b[0;32m\"<ipython-input-39-1a3356220f54>\"\u001b[0;36m, line \u001b[0;32m3\u001b[0m\n\u001b[0;31m    In [555]:\u001b[0m\n\u001b[0m             ^\u001b[0m\n\u001b[0;31mSyntaxError\u001b[0m\u001b[0;31m:\u001b[0m invalid syntax\n"
     ]
    }
   ],
   "source": [
    "gun_trimmed.rename(columns={'month':'month_date'},inplace=True)\n",
    "gun_trimmed['month']=gun_trimmed['month_date'].apply(lambda x: x[-2:])\n",
    "In [555]:\n"
   ]
  },
  {
   "cell_type": "code",
   "execution_count": null,
   "metadata": {},
   "outputs": [],
   "source": [
    "sales_month=gun_trimmed.groupby(['month']).sum()['sales_estimate'].reset_index()\n",
    "\n",
    "\n",
    "sales_month=pd.DataFrame({'sales':sales_month['sales_estimate'],\n",
    "                               'month_int':sales_month['month']\n",
    "                              })\n",
    "\n",
    "sales_month[\"month_name\"]=pd.to_datetime(sales_month['month_int'], format='%m').dt.month_name().str.slice(stop=3)\n",
    "py.figure(figsize=(16, 10))\n",
    "sns.lineplot(x=\"month_name\", y=\"sales\", data=sales_month,sort=False).set(xticks=sales_month.month_name.values);\n",
    "py.title('Estimated Gun Sales by Month between 1998-2016')\n",
    "py.ylabel('Estimtaed Gun Sales in Millions')\n",
    "py.xlabel('Month')\n",
    "py.savefig(\"monthly_trend.png\")\n"
   ]
  },
  {
   "cell_type": "markdown",
   "metadata": {},
   "source": [
    "<a name=\"conclusions\"></a>\n",
    "## V. Conclusions"
   ]
  },
  {
   "cell_type": "markdown",
   "metadata": {},
   "source": [
    "<a name=\"ans1\"></a>\n",
    "**1. What is the distrubtion of the interest in the three gun types as of 2016 across the 50 states in the United States?**\n",
    "\n",
    "\n",
    ">This cursory outlook indicates that the gun sales landscape is dominated by California and Texas. This leads to a potential hypothesis that state population plays a significant role in estimated gun sales in comparison to factors like political affiliation (red vs blue) as Texas and California have the highest state population but opposing political associations."
   ]
  },
  {
   "cell_type": "markdown",
   "metadata": {},
   "source": [
    "![](gun_sales_landscape.png)"
   ]
  },
  {
   "cell_type": "markdown",
   "metadata": {},
   "source": [
    "<a name=\"ans2\"></a>\n",
    "**2. What is the population distrubtion across the United States as of 2016?**\n",
    "![](dist_pop.png)\n"
   ]
  },
  {
   "cell_type": "markdown",
   "metadata": {},
   "source": [
    "<a name=\"ans3\"></a>\n",
    "**3. What is the estimated gun sales distrubtion across the United States as of 2016?**\n",
    "\n",
    ">The distribution of estimated gun sales in 2016 is skewed to the right. The concentration of estimated gun sales appears to collect around the lower end of the distribution."
   ]
  },
  {
   "cell_type": "markdown",
   "metadata": {},
   "source": [
    "![](gun_sales_dist.png)"
   ]
  },
  {
   "cell_type": "markdown",
   "metadata": {},
   "source": [
    "<a name=\"ans4\"></a>\n",
    "**4. Which state in America has the highest and lowest estimated guns per capita?**\n"
   ]
  },
  {
   "cell_type": "markdown",
   "metadata": {},
   "source": [
    "|Year|Highest Guns per Capita|Lowest Guns Per Capita|\n",
    "|----|----|----|\n",
    "|2010|Alaska (0.0959)|New Jersey (0.0064)|\n",
    "|2016|Alaska (0.1171)|Iowa (0.0134)|\n"
   ]
  },
  {
   "cell_type": "markdown",
   "metadata": {},
   "source": [
    "> a) **Alaska** has the highest gun per capita in both 2010 and 2016. Moreover, the gun per capita increased from **0.0959** in 2010 to **0.1171** in 2016.\n",
    "<br/>\n",
    "<br/>\n",
    "> b) **New Jersey** had the lowest gun per capita in 2010 of **0.0064**.\n",
    "<br/>\n",
    "<br/>\n",
    "> c) **Iowa** had the lowest gun per capita in 2016 of **0.0134**.\n",
    "<br/>\n",
    "<br/>\n",
    "> Again, the lowest gun per capita value rose between 2010 and 2016. \n",
    "<br/>\n",
    "<br/>\n",
    "> *Note - Hawaii had an estimated gun per capita of 0 in both 2010 and 2016 because all its background checks were conducted as permit checks or rechecks. As a result this state was excluded from this part of the analysis because permit checks were not incorporated in the estimation of guns per capita.*"
   ]
  },
  {
   "cell_type": "markdown",
   "metadata": {},
   "source": [
    "<a name=\"ans5\"></a>\n",
    "**5. Which popultation statistic is has the highest correlation with estimated guns per capita in America?** \n",
    "<br/>\n",
    "<br/>\n",
    "\n",
    "> a) **Percent of Foreigners 2011-2015** has the highest (negative) correlation of **-0.6190** to estimated guns per capita in 2010 from the whole census data set.\n",
    "\n",
    "![](correlation_1.png)\n",
    "\n",
    "> b) **Population per Square Mile 2010** has the highest (negative) correlation of **-0.5569** to estimated guns per capita in 2010 from subset of census data relating to 2010.\n",
    "\n",
    "![](correlation_2.png)\n",
    "\n",
    "> c) **Percent of Foreigners 2011-2015** has the highest (negative) correlation of **-0.6186** to estimated guns per capita in 2016 from the whole census data set.\n",
    "\n",
    "![](correlation_3.png)\n"
   ]
  },
  {
   "cell_type": "markdown",
   "metadata": {},
   "source": [
    "<a name=\"ans6\"></a>\n",
    "**6. Which state in America has reported the highest rate of growth in estimated gun sales?**\n",
    "\n",
    "> a) **Districut of Columbia** is the U.S. territory with the highest growth (per CAGR) of estimated gun sales at **21.87%**.\n",
    "<br/>\n",
    "<br/>\n",
    "b) **Massachusetts** is the U.S. state with the highest growth (per CAGR) of estimated gun sales at **10.71%**.\n"
   ]
  },
  {
   "cell_type": "markdown",
   "metadata": {},
   "source": [
    "<a name=\"ans7\"></a>\n",
    "**7. What trends can be observed in estimated gun sales over time in America?**\n",
    "\n",
    "There is an exponential increase in the estimated gun sales over time in America between 1998-2016. Major points of inflection include:<br/>\n",
    "<br/>\n",
    ">**2001:** The year of the 9/11 attacks.<br/>\n",
    "**2009:** The first year President Obamas took office.<br/>\n",
    "**2013:** The year of President Obama's call for stricter gun laws after a mass shooting at Sandy Hook Elementary School at the end of 2012.**\n",
    "\n",
    "\\** Source: *[New York Times](https://www.nytimes.com/interactive/2015/12/10/us/gun-sales-terrorism-obama-restrictions.html)*\n",
    "\n",
    "##### Trend in Estimated Gun Sales [1999-2016]\n",
    "![](trend_unadjusted.png)\n",
    "\n",
    "##### Seasonally Adjusted Trend in Estimated Gun Sales [1999-2016]\n",
    "![](seasonally_adjusted.png)"
   ]
  },
  {
   "cell_type": "markdown",
   "metadata": {},
   "source": [
    "<a name=\"ans5\"></a>\n",
    "**5. What is the seasonal (monthly) trend in estimated gun sales?**\n",
    "> There is a significant spike in the estimated gun sales in the month of **December**. It should be noted that the events listed above in (4) all occured around December.\n",
    "\n",
    "![](monthly_trend.png)"
   ]
  },
  {
   "cell_type": "markdown",
   "metadata": {},
   "source": [
    "<a name=\"limits\"></a>\n",
    "## VI. Limitations"
   ]
  },
  {
   "cell_type": "markdown",
   "metadata": {},
   "source": [
    ">1.The NICs data records background checks mandated for the purchase of a firearm by licensed dealers. It is only a proxy for gun sales and these background checks fail to capture exchange of guns not conducted through a licensed dealer.<br><br>2. Census data are often estimates and largely directional rather than accurate due to failure to complete census forms or fabrication while filling out the form. This impacts metrics like Estimated Gun Sales per capita.<br><br>3. The research questions identified various correlations but it is important to bare in mind, albeit cliched, that correlation does not imply causation.\n"
   ]
  }
 ],
 "metadata": {
  "kernelspec": {
   "display_name": "Python 3",
   "language": "python",
   "name": "python3"
  },
  "language_info": {
   "codemirror_mode": {
    "name": "ipython",
    "version": 3
   },
   "file_extension": ".py",
   "mimetype": "text/x-python",
   "name": "python",
   "nbconvert_exporter": "python",
   "pygments_lexer": "ipython3",
   "version": "3.7.3"
  }
 },
 "nbformat": 4,
 "nbformat_minor": 2
}
